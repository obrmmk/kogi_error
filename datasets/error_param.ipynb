{
 "cells": [
  {
   "cell_type": "markdown",
   "metadata": {},
   "source": [
    "### エラーデータの欠損値削除とパラメータ化"
   ]
  },
  {
   "cell_type": "code",
   "execution_count": 697,
   "metadata": {},
   "outputs": [
    {
     "name": "stdout",
     "output_type": "stream",
     "text": [
      "Requirement already satisfied: kogi in /usr/local/lib/python3.9/site-packages (0.0.7)\n",
      "Requirement already satisfied: pegtree in /usr/local/lib/python3.9/site-packages (from kogi) (0.9.16)\n",
      "\u001b[33mWARNING: You are using pip version 21.1.3; however, version 22.1.2 is available.\n",
      "You should consider upgrading via the '/usr/local/opt/python@3.9/bin/python3.9 -m pip install --upgrade pip' command.\u001b[0m\n"
     ]
    }
   ],
   "source": [
    "!pip3 install kogi\n",
    "from kogi.liberr.emodel import extract_params_from_error\n",
    "import pandas as pd"
   ]
  },
  {
   "cell_type": "markdown",
   "metadata": {},
   "source": [
    "##### 欠損値処理（output：error_train_new.csv, error_test_new.csv）"
   ]
  },
  {
   "cell_type": "code",
   "execution_count": 698,
   "metadata": {},
   "outputs": [],
   "source": [
    "#trainデータの欠損値処理\n",
    "\n",
    "df_train = pd.read_csv('error_train.tsv', sep='\\t', header=None)\n",
    "\n",
    "df_train_0 = df_train[0].str.split('<tab>', expand=True)\n",
    "df_train_1 = df_train[1].str.split('<tab>', expand=True)\n",
    "\n",
    "df_train_new = pd.concat([df_train_0, df_train_1], axis=1)\n",
    "df_train_new = df_train_new.set_axis([0, 1, 2, 3], axis=1)\n",
    "df_train_new_drop = df_train_new[(df_train_new[0]!='') & (df_train_new[1]!='') & (df_train_new[2]!='') & (df_train_new[3]!='') ]\n",
    "list_0=[]\n",
    "list_1=[]\n",
    "for a,b,c,d in zip(df_train_new_drop[0], df_train_new_drop[1], df_train_new_drop[2], df_train_new_drop[3]):\n",
    "    list_0.append(a+'<tab>'+b)\n",
    "    list_1.append(c+'<tab>'+d)\n",
    "df_train_new = pd.DataFrame(list(zip(list_0,list_1)), columns = [0,1])\n",
    "df_train_new = df_train_new.drop(df_train_new.index[5]) #入力途中のものを目視で発見\n",
    "df_train_new.to_csv('error_train_new.tsv', sep='\\t', header=None, index=None)"
   ]
  },
  {
   "cell_type": "code",
   "execution_count": 699,
   "metadata": {},
   "outputs": [],
   "source": [
    "#testデータの欠損値処理\n",
    "\n",
    "df_test = pd.read_csv('error_test.tsv', sep='\\t', header=None)\n",
    "\n",
    "df_test_0 = df_test[0].str.split('<tab>', expand=True)\n",
    "df_test_1 = df_test[1].str.split('<tab>', expand=True)\n",
    "\n",
    "df_test_new = pd.concat([df_test_0, df_test_1], axis=1)\n",
    "df_test_new = df_test_new.set_axis([0, 1, 2, 3], axis=1)\n",
    "df_test_new_drop = df_test_new[(df_test_new[0]!='') & (df_test_new[1]!='') & (df_test_new[2]!='') & (df_test_new[3]!='') ]\n",
    "list_0=[]\n",
    "list_1=[]\n",
    "for a,b,c,d in zip(df_test_new_drop[0], df_test_new_drop[1], df_test_new_drop[2], df_test_new_drop[3]):\n",
    "    list_0.append(a+'<tab>'+b)\n",
    "    list_1.append(c+'<tab>'+d)\n",
    "df_test_new = pd.DataFrame(list(zip(list_0,list_1)), columns = [0,1])\n",
    "df_test_new.to_csv('error_test_new.tsv', sep='\\t', header=None, index=None)"
   ]
  },
  {
   "cell_type": "markdown",
   "metadata": {},
   "source": [
    "##### パラメータ化（output：error_train_params.csv, error_test_params.csv）"
   ]
  },
  {
   "cell_type": "code",
   "execution_count": 700,
   "metadata": {},
   "outputs": [],
   "source": [
    "def error_params(df, df0, df1, output:str):\n",
    "    emsg_params_list=[]\n",
    "    code_params_list=[]\n",
    "    cause_params_list=[]\n",
    "    solution_params_list=[]\n",
    "\n",
    "    params = {i:chr(c) for i,c in enumerate(range(ord('A'),ord('Z')+1))}\n",
    "\n",
    "    for emsg, code, cause, solution in zip(df0[0], df0[1], df1[0], df1[1]):\n",
    "        emsg_params = extract_params_from_error(emsg)[0]\n",
    "        extract_params=set()\n",
    "        for i in extract_params_from_error(emsg)[1]:\n",
    "            try:\n",
    "                extract_params.add(''.join(eval(i.replace(\"'(\",'').replace(\")'\",'')) ))\n",
    "            except:\n",
    "                extract_params.add(''.join(i.replace(\"'(\",'').replace(\")'\",'')))\n",
    "        if '' in extract_params:\n",
    "            extract_params.remove('')\n",
    "        extract_params = list(extract_params)\n",
    "        if extract_params:\n",
    "            for i in range(len(extract_params)):\n",
    "                code_params = code.replace(extract_params[i], params[i])\n",
    "                cause_params = cause.replace(extract_params[i], params[i])\n",
    "                solution_params = solution.replace(extract_params[i], params[i])\n",
    "        else:\n",
    "            code_params = code\n",
    "            cause_params = cause\n",
    "            solution_params = solution\n",
    "        \n",
    "        emsg_params_list.append(emsg_params)\n",
    "        code_params_list.append(code_params) \n",
    "        cause_params_list.append(cause_params) \n",
    "        solution_params_list.append(solution_params)\n",
    "\n",
    "    df_0_params_list=[]\n",
    "    df_1_params_list=[]\n",
    "\n",
    "    for i in range(len(df)):\n",
    "        df_0_params_list.append(emsg_params_list[i]+'<sep>'+code_params_list[i])\n",
    "        df_1_params_list.append(cause_params_list[i]+'<sep>'+solution_params_list[i])\n",
    "\n",
    "    df_params = pd.DataFrame(list(zip(df_0_params_list, df_1_params_list)))\n",
    "    df_params.to_csv(output, sep='\\t', header=None, index=None)"
   ]
  },
  {
   "cell_type": "code",
   "execution_count": 701,
   "metadata": {},
   "outputs": [],
   "source": [
    "df_train_0 = df_train_new[0].str.split('<tab>', expand=True)\n",
    "df_train_1 = df_train_new[1].str.split('<tab>', expand=True)\n",
    "\n",
    "error_params(df_train_new, df_train_0, df_train_1, 'error_train_params.tsv')\n",
    "error_params(df_test_new, df_test_0, df_test_1, 'error_test_params.tsv')"
   ]
  },
  {
   "cell_type": "markdown",
   "metadata": {},
   "source": [
    "##### debug"
   ]
  },
  {
   "cell_type": "code",
   "execution_count": 702,
   "metadata": {},
   "outputs": [],
   "source": [
    "def inputnum(i):\n",
    "    return df_train_0[0][i], df_train_0[1][i], df_train_1[0][i], df_train_1[1][i]\n",
    "\n",
    "def pri(i):\n",
    "    print(emsg_params_list[i])\n",
    "    print(code_params_list[i])\n",
    "    print(cause_params_list[i])\n",
    "    print(solution_params_list[i])\n",
    "\n",
    "emsg, code, cause, solution = inputnum(257)\n",
    "emsg_params = extract_params_from_error(emsg)[0]\n",
    "extract_params=set()\n",
    "for i in extract_params_from_error(emsg)[1]:\n",
    "    try:\n",
    "        extract_params.add(''.join(eval(i.replace(\"'(\",'').replace(\")'\",'').strip(' ')) ))\n",
    "    except:\n",
    "        extract_params.add(''.join(i.replace(\"'(\",'').replace(\")'\",'').strip(' ')))\n",
    "if '' in extract_params:\n",
    "        extract_params.remove('')\n",
    "extract_params = list(extract_params)\n",
    "for i in range(len(extract_params)):\n",
    "    code_params = code.replace(extract_params[i], params[i])\n",
    "    cause_params = cause.replace(extract_params[i], params[i])\n",
    "    solution_params = solution.replace(extract_params[i], params[i])"
   ]
  }
 ],
 "metadata": {
  "interpreter": {
   "hash": "aee8b7b246df8f9039afb4144a1f6fd8d2ca17a180786b69acc140d282b71a49"
  },
  "kernelspec": {
   "display_name": "Python 3.9.6 64-bit",
   "language": "python",
   "name": "python3"
  },
  "language_info": {
   "codemirror_mode": {
    "name": "ipython",
    "version": 3
   },
   "file_extension": ".py",
   "mimetype": "text/x-python",
   "name": "python",
   "nbconvert_exporter": "python",
   "pygments_lexer": "ipython3",
   "version": "3.9.6"
  },
  "orig_nbformat": 4
 },
 "nbformat": 4,
 "nbformat_minor": 2
}
